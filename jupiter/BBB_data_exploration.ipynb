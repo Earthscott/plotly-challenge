{
 "cells": [
  {
   "cell_type": "code",
   "execution_count": 14,
   "id": "fce72279-9e6d-43a5-8c85-77f9c867423d",
   "metadata": {},
   "outputs": [],
   "source": [
    "import pandas as pd\n",
    "import json\n",
    "from pprint import pprint"
   ]
  },
  {
   "cell_type": "code",
   "execution_count": 44,
   "id": "77a0f643-1159-4f36-be20-f711996cab2a",
   "metadata": {},
   "outputs": [],
   "source": [
    "file = 'samples.json'\n",
    "with open(file) as jsonfile:\n",
    "    data = json.load(jsonfile)\n"
   ]
  },
  {
   "cell_type": "code",
   "execution_count": 46,
   "id": "cd0ab9c6-9a0d-4824-8922-9bb4d11db5ac",
   "metadata": {},
   "outputs": [],
   "source": [
    "metadata = json.dumps(data['metadata'], indent=4)\n",
    "# print(metadata)"
   ]
  },
  {
   "cell_type": "code",
   "execution_count": 47,
   "id": "7f6e37fd-8b5b-4075-bca5-89a5155dd5dd",
   "metadata": {},
   "outputs": [
    {
     "data": {
      "text/html": [
       "<div>\n",
       "<style scoped>\n",
       "    .dataframe tbody tr th:only-of-type {\n",
       "        vertical-align: middle;\n",
       "    }\n",
       "\n",
       "    .dataframe tbody tr th {\n",
       "        vertical-align: top;\n",
       "    }\n",
       "\n",
       "    .dataframe thead th {\n",
       "        text-align: right;\n",
       "    }\n",
       "</style>\n",
       "<table border=\"1\" class=\"dataframe\">\n",
       "  <thead>\n",
       "    <tr style=\"text-align: right;\">\n",
       "      <th></th>\n",
       "      <th>id</th>\n",
       "      <th>ethnicity</th>\n",
       "      <th>gender</th>\n",
       "      <th>age</th>\n",
       "      <th>location</th>\n",
       "      <th>bbtype</th>\n",
       "      <th>wfreq</th>\n",
       "    </tr>\n",
       "  </thead>\n",
       "  <tbody>\n",
       "    <tr>\n",
       "      <th>0</th>\n",
       "      <td>940</td>\n",
       "      <td>Caucasian</td>\n",
       "      <td>F</td>\n",
       "      <td>24.0</td>\n",
       "      <td>Beaufort/NC</td>\n",
       "      <td>I</td>\n",
       "      <td>2.0</td>\n",
       "    </tr>\n",
       "    <tr>\n",
       "      <th>1</th>\n",
       "      <td>941</td>\n",
       "      <td>Caucasian/Midleastern</td>\n",
       "      <td>F</td>\n",
       "      <td>34.0</td>\n",
       "      <td>Chicago/IL</td>\n",
       "      <td>I</td>\n",
       "      <td>1.0</td>\n",
       "    </tr>\n",
       "    <tr>\n",
       "      <th>2</th>\n",
       "      <td>943</td>\n",
       "      <td>Caucasian</td>\n",
       "      <td>F</td>\n",
       "      <td>49.0</td>\n",
       "      <td>Omaha/NE</td>\n",
       "      <td>I</td>\n",
       "      <td>1.0</td>\n",
       "    </tr>\n",
       "    <tr>\n",
       "      <th>3</th>\n",
       "      <td>944</td>\n",
       "      <td>European</td>\n",
       "      <td>M</td>\n",
       "      <td>44.0</td>\n",
       "      <td>NewHaven/CT</td>\n",
       "      <td>I</td>\n",
       "      <td>1.0</td>\n",
       "    </tr>\n",
       "    <tr>\n",
       "      <th>4</th>\n",
       "      <td>945</td>\n",
       "      <td>Caucasian</td>\n",
       "      <td>F</td>\n",
       "      <td>48.0</td>\n",
       "      <td>Philidelphia/PA</td>\n",
       "      <td>I</td>\n",
       "      <td>1.0</td>\n",
       "    </tr>\n",
       "    <tr>\n",
       "      <th>...</th>\n",
       "      <td>...</td>\n",
       "      <td>...</td>\n",
       "      <td>...</td>\n",
       "      <td>...</td>\n",
       "      <td>...</td>\n",
       "      <td>...</td>\n",
       "      <td>...</td>\n",
       "    </tr>\n",
       "    <tr>\n",
       "      <th>148</th>\n",
       "      <td>1574</td>\n",
       "      <td>Caucasian</td>\n",
       "      <td>M</td>\n",
       "      <td>30.0</td>\n",
       "      <td>OK</td>\n",
       "      <td>I</td>\n",
       "      <td>7.0</td>\n",
       "    </tr>\n",
       "    <tr>\n",
       "      <th>149</th>\n",
       "      <td>1576</td>\n",
       "      <td>Caucasian</td>\n",
       "      <td>F</td>\n",
       "      <td>33.0</td>\n",
       "      <td>NC</td>\n",
       "      <td>I</td>\n",
       "      <td>0.0</td>\n",
       "    </tr>\n",
       "    <tr>\n",
       "      <th>150</th>\n",
       "      <td>1577</td>\n",
       "      <td>Caucasian</td>\n",
       "      <td>M</td>\n",
       "      <td>26.0</td>\n",
       "      <td>NC</td>\n",
       "      <td>I</td>\n",
       "      <td>0.0</td>\n",
       "    </tr>\n",
       "    <tr>\n",
       "      <th>151</th>\n",
       "      <td>1581</td>\n",
       "      <td>Asian(American)</td>\n",
       "      <td>F</td>\n",
       "      <td>22.0</td>\n",
       "      <td>NC</td>\n",
       "      <td>I</td>\n",
       "      <td>2.0</td>\n",
       "    </tr>\n",
       "    <tr>\n",
       "      <th>152</th>\n",
       "      <td>1601</td>\n",
       "      <td>Caucasian</td>\n",
       "      <td>F</td>\n",
       "      <td>22.0</td>\n",
       "      <td>NC</td>\n",
       "      <td>I</td>\n",
       "      <td>2.0</td>\n",
       "    </tr>\n",
       "  </tbody>\n",
       "</table>\n",
       "<p>153 rows × 7 columns</p>\n",
       "</div>"
      ],
      "text/plain": [
       "       id              ethnicity gender   age         location bbtype  wfreq\n",
       "0     940              Caucasian      F  24.0      Beaufort/NC      I    2.0\n",
       "1     941  Caucasian/Midleastern      F  34.0       Chicago/IL      I    1.0\n",
       "2     943              Caucasian      F  49.0         Omaha/NE      I    1.0\n",
       "3     944               European      M  44.0      NewHaven/CT      I    1.0\n",
       "4     945              Caucasian      F  48.0  Philidelphia/PA      I    1.0\n",
       "..    ...                    ...    ...   ...              ...    ...    ...\n",
       "148  1574              Caucasian      M  30.0               OK      I    7.0\n",
       "149  1576              Caucasian      F  33.0               NC      I    0.0\n",
       "150  1577              Caucasian      M  26.0               NC      I    0.0\n",
       "151  1581        Asian(American)      F  22.0               NC      I    2.0\n",
       "152  1601              Caucasian      F  22.0               NC      I    2.0\n",
       "\n",
       "[153 rows x 7 columns]"
      ]
     },
     "execution_count": 47,
     "metadata": {},
     "output_type": "execute_result"
    }
   ],
   "source": [
    "df_meta = pd.read_json(metadata)\n",
    "df_meta"
   ]
  },
  {
   "cell_type": "code",
   "execution_count": 49,
   "id": "6edd04a9-cccd-493f-bd2f-472841684677",
   "metadata": {},
   "outputs": [
    {
     "data": {
      "text/plain": [
       "I          120\n",
       "i           13\n",
       "NaN         11\n",
       "o            4\n",
       "O            2\n",
       "Both         2\n",
       "Unknown      1\n",
       "Name: bbtype, dtype: int64"
      ]
     },
     "execution_count": 49,
     "metadata": {},
     "output_type": "execute_result"
    }
   ],
   "source": [
    "df_meta['bbtype'].value_counts(dropna=False)"
   ]
  },
  {
   "cell_type": "code",
   "execution_count": 50,
   "id": "2eb70c62-58ed-4d35-a698-e8c2dab29be2",
   "metadata": {},
   "outputs": [
    {
     "data": {
      "text/plain": [
       "0.0    51\n",
       "7.0    32\n",
       "1.0    15\n",
       "NaN    15\n",
       "3.0    13\n",
       "5.0    10\n",
       "2.0     8\n",
       "4.0     4\n",
       "6.0     3\n",
       "3.5     1\n",
       "9.0     1\n",
       "Name: wfreq, dtype: int64"
      ]
     },
     "execution_count": 50,
     "metadata": {},
     "output_type": "execute_result"
    }
   ],
   "source": [
    "df_meta['wfreq'].value_counts(dropna=False)"
   ]
  },
  {
   "cell_type": "code",
   "execution_count": 51,
   "id": "9ec75347-af43-4351-9eff-c657cb197cdb",
   "metadata": {},
   "outputs": [
    {
     "data": {
      "text/plain": [
       "F      87\n",
       "M      54\n",
       "f       6\n",
       "m       5\n",
       "NaN     1\n",
       "Name: gender, dtype: int64"
      ]
     },
     "execution_count": 51,
     "metadata": {},
     "output_type": "execute_result"
    }
   ],
   "source": [
    "df_meta['gender'].value_counts(dropna=False)"
   ]
  },
  {
   "cell_type": "code",
   "execution_count": null,
   "id": "41694e3f-850e-444a-9869-381073fb01ae",
   "metadata": {},
   "outputs": [],
   "source": []
  }
 ],
 "metadata": {
  "kernelspec": {
   "display_name": "Python 3",
   "language": "python",
   "name": "python3"
  },
  "language_info": {
   "codemirror_mode": {
    "name": "ipython",
    "version": 3
   },
   "file_extension": ".py",
   "mimetype": "text/x-python",
   "name": "python",
   "nbconvert_exporter": "python",
   "pygments_lexer": "ipython3",
   "version": "3.8.10"
  }
 },
 "nbformat": 4,
 "nbformat_minor": 5
}
